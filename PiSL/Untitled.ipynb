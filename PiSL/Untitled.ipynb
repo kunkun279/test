{
 "cells": [
  {
   "cell_type": "code",
   "execution_count": null,
   "id": "2010ae2b-608f-4445-898b-3ffae571e9e4",
   "metadata": {},
   "outputs": [],
   "source": []
  }
 ],
 "metadata": {
  "kernelspec": {
   "display_name": "Pisl",
   "language": "python",
   "name": "pisl"
  },
  "language_info": {
   "codemirror_mode": {
    "name": "ipython",
    "version": 3
   },
   "file_extension": ".py",
   "mimetype": "text/x-python",
   "name": "python",
   "nbconvert_exporter": "python",
   "pygments_lexer": "ipython3",
   "version": "3.8.20"
  }
 },
 "nbformat": 4,
 "nbformat_minor": 5
}
